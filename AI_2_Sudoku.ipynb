{
  "nbformat": 4,
  "nbformat_minor": 0,
  "metadata": {
    "colab": {
      "provenance": []
    },
    "kernelspec": {
      "name": "python3",
      "display_name": "Python 3"
    },
    "language_info": {
      "name": "python"
    }
  },
  "cells": [
    {
      "cell_type": "code",
      "execution_count": 1,
      "metadata": {
        "colab": {
          "base_uri": "https://localhost:8080/"
        },
        "id": "omdF5blqxNZW",
        "outputId": "343d96e2-3c4f-497e-9485-af9ed2c47f81"
      },
      "outputs": [
        {
          "output_type": "stream",
          "name": "stdout",
          "text": [
            "8 7 5 9 2 1 3 4 6 \n",
            "3 6 1 7 5 4 8 9 2 \n",
            "2 4 9 8 6 3 7 1 5 \n",
            "5 8 4 6 9 7 1 2 3 \n",
            "7 1 3 2 4 8 6 5 9 \n",
            "9 2 6 1 3 5 4 8 7 \n",
            "6 9 7 4 1 2 5 3 8 \n",
            "1 5 8 3 7 9 2 6 4 \n",
            "4 3 2 5 8 6 9 7 1 \n"
          ]
        }
      ],
      "source": [
        "\n",
        "# Sudoku code simple\n",
        "M = 9  # Size of the Sudoku grid (9x9)\n",
        "\n",
        "# Function to print the Sudoku puzzle\n",
        "def puzzle(a):\n",
        "    for i in range(M):\n",
        "        for j in range(M):\n",
        "            print(a[i][j], end=\" \")\n",
        "        print()  # New line after each row\n",
        "\n",
        "# Check if a number can be placed in a given cell\n",
        "def solve(grid, row, col, num):\n",
        "    # Check row and column for the number\n",
        "    for x in range(9):\n",
        "        if grid[row][x] == num or grid[x][col] == num:\n",
        "            return False\n",
        "    # Check the 3x3 sub-grid\n",
        "    startRow = row - row % 3\n",
        "    startCol = col - col % 3\n",
        "    for i in range(3):\n",
        "        for j in range(3):\n",
        "            if grid[i + startRow][j + startCol] == num:\n",
        "                return False\n",
        "    return True  # Safe to place the number\n",
        "\n",
        "# Solve the Sudoku puzzle using backtracking\n",
        "def Suduko(grid, row, col):\n",
        "    # Check if we reached the end of the grid\n",
        "    if (row == M - 1 and col == M):\n",
        "        return True\n",
        "    # Move to the next row if at the end of the current row\n",
        "    if col == M:\n",
        "        row += 1\n",
        "        col = 0\n",
        "    # Skip filled cells\n",
        "    if grid[row][col] > 0:\n",
        "        return Suduko(grid, row, col + 1)\n",
        "\n",
        "    # Try numbers 1 to 9\n",
        "    for num in range(1, M + 1):\n",
        "        if solve(grid, row, col, num):\n",
        "            grid[row][col] = num  # Place the number\n",
        "            if Suduko(grid, row, col + 1):  # Recur for next cells\n",
        "                return True\n",
        "        grid[row][col] = 0  # Reset if not successful\n",
        "    return False  # Trigger backtracking\n",
        "\n",
        "# Initial Sudoku grid with '0' representing empty cells\n",
        "grid = [\n",
        "    [0, 7, 0, 0, 2, 0, 0, 4, 6],\n",
        "    [0, 6, 0, 0, 0, 0, 8, 9, 0],\n",
        "    [2, 0, 0, 8, 0, 0, 7, 1, 5],\n",
        "    [0, 8, 4, 0, 9, 7, 0, 0, 0],\n",
        "    [7, 1, 0, 0, 0, 0, 0, 5, 9],\n",
        "    [0, 0, 0, 1, 3, 0, 4, 8, 0],\n",
        "    [6, 9, 7, 0, 0, 2, 0, 0, 8],\n",
        "    [0, 5, 8, 0, 0, 0, 0, 6, 0],\n",
        "    [4, 3, 0, 0, 8, 0, 0, 7, 0]\n",
        "]\n",
        "\n",
        "# Attempt to solve the Sudoku puzzle\n",
        "if (Suduko(grid, 0, 0)):\n",
        "    puzzle(grid)  # Print the solved puzzle\n",
        "else:\n",
        "    print(\"Solution does not exist :(\")  # Indicate no solution found\n"
      ]
    }
  ]
}