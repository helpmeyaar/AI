{
  "nbformat": 4,
  "nbformat_minor": 0,
  "metadata": {
    "colab": {
      "provenance": []
    },
    "kernelspec": {
      "name": "python3",
      "display_name": "Python 3"
    },
    "language_info": {
      "name": "python"
    }
  },
  "cells": [
    {
      "cell_type": "markdown",
      "source": [
        "**Implement Backward Chaining Algorithm.**"
      ],
      "metadata": {
        "id": "KFU654zNqzmZ"
      }
    },
    {
      "cell_type": "code",
      "source": [
        "#  COPY THIS\n",
        "\n",
        "facts = [\"A\", \"B\"]\n",
        "\n",
        "rules = [\n",
        "    ([\"A\", \"B\"], \"C\"),  # If A and B are true, then infer C\n",
        "    ([\"C\"], \"D\"),       # If C is true, then infer D\n",
        "    ([\"D\"], \"E\")        # If D is true, then infer E\n",
        "]\n",
        "\n",
        "def backward_chaining(goal, facts, rules):\n",
        "\n",
        "    if goal in facts:\n",
        "        print(f\"Goal {goal} is already a fact.\")\n",
        "        return True\n",
        "\n",
        "\n",
        "    for condition, conclusion in rules:\n",
        "        if conclusion == goal:\n",
        "            print(f\"Trying to infer {goal} using the rule: {condition} -> {goal}\")\n",
        "\n",
        "            # Recursively check if all conditions for the rule are met\n",
        "            all_conditions_met = True\n",
        "            for condition in condition:\n",
        "                if not backward_chaining(condition, facts, rules):\n",
        "                    all_conditions_met = False\n",
        "                    break\n",
        "\n",
        "            if all_conditions_met:\n",
        "                print(f\"Goal {goal} inferred successfully!\")\n",
        "                return True\n",
        "\n",
        "\n",
        "    print(f\"Goal {goal} cannot be inferred.\")\n",
        "    return False\n",
        "\n",
        "\n",
        "# Example: Trying to infer \"E\"\n",
        "goal = \"E\"\n",
        "print(f\"Trying to prove goal: {goal}\")\n",
        "if backward_chaining(goal, facts, rules):\n",
        "    print(f\"Goal {goal} has been proven.\")\n",
        "else:\n",
        "    print(f\"Goal {goal} cannot be proven.\")"
      ],
      "metadata": {
        "colab": {
          "base_uri": "https://localhost:8080/"
        },
        "id": "-B_PZS0Jq5qt",
        "outputId": "af8b69e3-a7da-4e22-fb1a-fbcba2d63226"
      },
      "execution_count": 1,
      "outputs": [
        {
          "output_type": "stream",
          "name": "stdout",
          "text": [
            "Trying to prove goal: E\n",
            "Trying to infer E using the rule: ['D'] -> E\n",
            "Trying to infer D using the rule: ['C'] -> D\n",
            "Trying to infer C using the rule: ['A', 'B'] -> C\n",
            "Goal A is already a fact.\n",
            "Goal B is already a fact.\n",
            "Goal C inferred successfully!\n",
            "Goal D inferred successfully!\n",
            "Goal E inferred successfully!\n",
            "Goal E has been proven.\n"
          ]
        }
      ]
    }
  ]
}