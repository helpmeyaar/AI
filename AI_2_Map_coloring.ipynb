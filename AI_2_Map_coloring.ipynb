{
  "nbformat": 4,
  "nbformat_minor": 0,
  "metadata": {
    "colab": {
      "provenance": []
    },
    "kernelspec": {
      "name": "python3",
      "display_name": "Python 3"
    },
    "language_info": {
      "name": "python"
    }
  },
  "cells": [
    {
      "cell_type": "markdown",
      "source": [
        "**2  Implement Constraint Satisfaction Problem.**"
      ],
      "metadata": {
        "id": "ubY2MbuOwERM"
      }
    },
    {
      "cell_type": "code",
      "execution_count": 1,
      "metadata": {
        "id": "pvE1dtOrhDdr",
        "colab": {
          "base_uri": "https://localhost:8080/"
        },
        "outputId": "c0784361-eb03-4f5c-fa54-fab4c0d19e60"
      },
      "outputs": [
        {
          "output_type": "stream",
          "name": "stdout",
          "text": [
            "Step 1: ['Red', None, None, None]\n",
            "Step 2: ['Red', 'Green', None, None]\n",
            "Step 3: ['Red', 'Green', 'Red', None]\n",
            "Step 4: ['Red', 'Green', 'Red', 'Blue']\n",
            "\n",
            "Final Solution: ['Red', 'Green', 'Red', 'Blue']\n"
          ]
        }
      ],
      "source": [
        "#  COPY THIS\n",
        "\n",
        "# Map Coloring Problem using Backtracking with Step-by-Step Output\n",
        "\n",
        "\n",
        "# Function to check if the current color assignment is safe for the vertex\n",
        "def is_safe(vertex, graph, colors, color, assigned_colors):\n",
        "    for i in range(len(graph)):\n",
        "        if graph[vertex][i] == 1 and assigned_colors[i] == color:\n",
        "            return False\n",
        "    return True\n",
        "\n",
        "# Function to print the current state of color assignments\n",
        "def print_assignment(assigned_colors, step):\n",
        "    print(f\"Step {step}: {assigned_colors}\")\n",
        "\n",
        "# Function to solve the map coloring problem using backtracking with step-by-step output\n",
        "def map_coloring(graph, colors, assigned_colors, vertex, step):\n",
        "    # If all vertices are assigned a color, return True\n",
        "    if vertex == len(graph):\n",
        "        return True\n",
        "\n",
        "    # Try different colors for the current vertex\n",
        "    for color in colors:\n",
        "        if is_safe(vertex, graph, colors, color, assigned_colors):\n",
        "            # Assign the current color to the vertex\n",
        "            assigned_colors[vertex] = color\n",
        "            print_assignment(assigned_colors, step)\n",
        "            step += 1  # Increment step for next assignment\n",
        "\n",
        "            # Recur to assign colors to the rest of the vertices\n",
        "            if map_coloring(graph, colors, assigned_colors, vertex + 1, step):\n",
        "                return True\n",
        "\n",
        "            # If assigning color didn't lead to a solution, backtrack\n",
        "            assigned_colors[vertex] = None  # Backtrack\n",
        "            print(f\"Backtrack from Step {step}\")\n",
        "\n",
        "    return False\n",
        "\n",
        "# Main function to solve the problem\n",
        "def solve_map_coloring(graph, colors):\n",
        "    assigned_colors = [None] * len(graph)  # Initialize all vertices as unassigned\n",
        "    step = 1  # Start the step counter\n",
        "\n",
        "    if not map_coloring(graph, colors, assigned_colors, 0, step):\n",
        "        print(\"No solution exists\")\n",
        "        return None\n",
        "\n",
        "    return assigned_colors\n",
        "\n",
        "\n",
        "# Adjacency matrix of the map (Graph)\n",
        "graph = [\n",
        "    [0, 1, 0, 1],  # Region 1 is connected to Region 2 and Region 4\n",
        "    [1, 0, 1, 1],  # Region 2 is connected to Region 1, Region 3, and Region 4\n",
        "    [0, 1, 0, 1],  # Region 3 is connected to Region 2 and Region 4\n",
        "    [1, 1, 1, 0]   # Region 4 is connected to Region 1, Region 2, and Region 3\n",
        "]\n",
        "\n",
        "# graph = [\n",
        "#     [0, 1, 0, 1, 0],  # Region 1 is connected to Region 2 and Region 4\n",
        "#     [1, 0, 1, 1, 1],  # Region 2 is connected to Region 1, Region 3, Region 4, and Region 5\n",
        "#     [0, 1, 0, 0, 1],  # Region 3 is connected to Region 2 and Region 5\n",
        "#     [1, 1, 0, 0, 1],  # Region 4 is connected to Region 1, Region 2, and Region 5\n",
        "#     [0, 1, 1, 1, 0]   # Region 5 is connected to Region 2, Region 3, and Region 4\n",
        "# ]\n",
        "\n",
        "\n",
        "# List of available colors\n",
        "colors = ['Red', 'Green', 'Blue']\n",
        "\n",
        "# Solve the problem and print the result\n",
        "solution = solve_map_coloring(graph, colors)\n",
        "\n",
        "if solution:\n",
        "    print(\"\\nFinal Solution:\", solution)"
      ]
    }
  ]
}