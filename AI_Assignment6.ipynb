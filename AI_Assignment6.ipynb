{
  "nbformat": 4,
  "nbformat_minor": 0,
  "metadata": {
    "colab": {
      "provenance": []
    },
    "kernelspec": {
      "name": "python3",
      "display_name": "Python 3"
    },
    "language_info": {
      "name": "python"
    }
  },
  "cells": [
    {
      "cell_type": "markdown",
      "source": [
        "** 6  Implement Basic Search Strategies – 8-Queens Problem.**"
      ],
      "metadata": {
        "id": "cAI5yzlzpey5"
      }
    },
    {
      "cell_type": "code",
      "source": [
        "#  COPY THIS\n",
        "\n",
        "N = 8\n",
        "\n",
        "\n",
        "def solveNQueens(board,col):\n",
        "  if col == N :\n",
        "   print(board)\n",
        "   return True\n",
        "\n",
        "  for i in range(N):\n",
        "    if isSafe(board,i,col):\n",
        "     board[i][col] = 1\n",
        "     if solveNQueens(board,col+1):\n",
        "      return True\n",
        "    board[i][col] = 0\n",
        "  return False\n",
        "\n",
        "\n",
        "\n",
        "def isSafe(board, row, col):\n",
        "  for i in range (col):\n",
        "    if board[row][i] == 1:\n",
        "     return False\n",
        "  for x, y in zip(range(row, -1, -1), range(col, -1, -1)):\n",
        "    if board[x][y] == 1:\n",
        "        return False\n",
        "  for x, y in zip(range(row, N, 1), range(col, -1, -1)):\n",
        "      if board[x][y] == 1:\n",
        "        return False\n",
        "  return True\n",
        "\n",
        "\n",
        "board = [[0 for x in range(N)] for y in range(N)]\n",
        "if not solveNQueens(board, 0):\n",
        "    print(\"No solution found\")\n",
        "\n",
        "\n"
      ],
      "metadata": {
        "colab": {
          "base_uri": "https://localhost:8080/"
        },
        "id": "bbs4WKu5px3m",
        "outputId": "75b442d0-fd72-4ff6-eb79-94ada37bf93d"
      },
      "execution_count": 1,
      "outputs": [
        {
          "output_type": "stream",
          "name": "stdout",
          "text": [
            "[[1, 0, 0, 0, 0, 0, 0, 0], [0, 0, 0, 0, 0, 0, 1, 0], [0, 0, 0, 0, 1, 0, 0, 0], [0, 0, 0, 0, 0, 0, 0, 1], [0, 1, 0, 0, 0, 0, 0, 0], [0, 0, 0, 1, 0, 0, 0, 0], [0, 0, 0, 0, 0, 1, 0, 0], [0, 0, 1, 0, 0, 0, 0, 0]]\n"
          ]
        }
      ]
    }
  ]
}